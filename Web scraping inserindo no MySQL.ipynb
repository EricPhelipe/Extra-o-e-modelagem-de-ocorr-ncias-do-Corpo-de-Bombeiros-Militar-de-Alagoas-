{
 "cells": [
  {
   "cell_type": "code",
   "execution_count": 6,
   "id": "4a46bc30",
   "metadata": {},
   "outputs": [],
   "source": [
    "import requests\n",
    "import pandas as pd\n",
    "import unicodedata\n",
    "from bs4 import BeautifulSoup \n",
    "import mysql.connector as mdb\n",
    "import warnings\n",
    "warnings.filterwarnings(\"ignore\")\n",
    "import os\n",
    "from datetime import datetime\n",
    "pd.set_option('display.max_columns', 20)\n",
    "pd.set_option('display.max_rows', 500)\n"
   ]
  },
  {
   "cell_type": "code",
   "execution_count": 7,
   "id": "4f68788e",
   "metadata": {},
   "outputs": [],
   "source": [
    "# Definindo url e fazendo request\n",
    "url = 'http://cbm.al.gov.br/paginas/ocorrencias/true'\n",
    "resposta = requests.get(url)\n",
    "page = resposta.text\n",
    "soup = BeautifulSoup(page, 'html.parser')"
   ]
  },
  {
   "cell_type": "code",
   "execution_count": 14,
   "id": "254c1c6a",
   "metadata": {},
   "outputs": [],
   "source": [
    "# Conectando ao MySQL\n",
    "con = mdb.connect(user ='seu usuário', password ='sua senha', database ='ocorrencias_bombeiros')\n",
    "\n",
    "cursor = con.cursor()\n",
    "def insert(table, data):\n",
    "    query = \"INSERT INTO \" + table + \" SET \" \n",
    "    comb = []\n",
    "    for field in data:\n",
    "        if(field):\n",
    "            comb.append(\"%s = '%s'\" % (field, data[field]))\n",
    "    query += \", \".join(comb) \n",
    "    cursor.execute(query) \n"
   ]
  },
  {
   "cell_type": "code",
   "execution_count": 15,
   "id": "e5e0a49e",
   "metadata": {},
   "outputs": [],
   "source": [
    "#definindo função para tirar acentos\n",
    "def strip_accents(s):\n",
    "    return ''.join(c for c in unicodedata.normalize('NFD', s) if unicodedata.category(c) != 'Mn')"
   ]
  },
  {
   "cell_type": "code",
   "execution_count": null,
   "id": "8d29428e",
   "metadata": {},
   "outputs": [],
   "source": [
    "#Criando tabela no MySQL\n",
    "cursor.execute('create table ocorrencias (id MEDIUMINT NOT NULL AUTO_INCREMENT, atendimento TEXT NOT NULL, datahora TEXT NOT NULL, ocorrencia TEXT NOT NULL, local TEXT NOT NULL, viaturas TEXT NOT NULL, militares TEXT NOT NULL, dhcoleta TEXT NOT NULL, PRIMARY KEY (id));')\n",
    " "
   ]
  },
  {
   "cell_type": "code",
   "execution_count": 16,
   "id": "d36494c4",
   "metadata": {},
   "outputs": [],
   "source": [
    "#Fazendo scraping e inserindo no MySQL\n",
    "atendimento = soup.findAll('h4')\n",
    "datahora = soup.findAll('p', attrs={'class':\"list-group-item-text\"})\n",
    "ax = []\n",
    "asd = {}\n",
    "\n",
    "z = 0\n",
    "for j in range(0, len(datahora)):          \n",
    "    if z == 0:\n",
    "           \n",
    "        asd['datahora'] =  strip_accents(datahora[j].text.replace(u'\\xa0', u'')).replace(\"'\", \"\").replace(',', '.')\n",
    "        z += 1  \n",
    "    \n",
    "    elif z == 1:\n",
    "        asd['ocorrencia'] = strip_accents(datahora[j].text.replace(u'\\xa0', u'')).replace(\"'\", \"\").replace(',', '.')\n",
    "        z += 1 \n",
    "         \n",
    "    elif z == 2:\n",
    "        asd['local'] = strip_accents(datahora[j].text.replace(u'\\xa0', u'')).replace(\"'\", \"\").replace(',', '.')\n",
    "        z += 1  \n",
    "         \n",
    "    elif z == 3:\n",
    "        asd['viaturas'] = strip_accents(datahora[j].text.replace(u'\\xa0', u'').replace(\"'\", \"\").replace('.', '').replace('VIATURAS EMPREGADAS', ''))\n",
    "        z += 1  \n",
    "       \n",
    "    elif z == 4:\n",
    "        asd['militares'] = strip_accents(datahora[j].text.replace(u'\\xa0', u'')).replace(\"'\", \"\").replace('MILITARES EMPREGADOS.', '')\n",
    "        asd['atendimento'] =  strip_accents(atendimento[int(j/5)].text.replace(u'\\xa0', u''))\n",
    "        asd['dhcoleta'] = datetime.now()\n",
    "        ax.append(asd)\n",
    "        insert('ocorrencias', asd)\n",
    "        asd = {}\n",
    "        z=0"
   ]
  },
  {
   "cell_type": "code",
   "execution_count": 17,
   "id": "bc0c04ef",
   "metadata": {},
   "outputs": [],
   "source": [
    "#Retirando observações repetidas, fazendo o conmit e fechando o cursor.\n",
    "cursor.execute(\"DELETE a FROM ocorrencias AS a, ocorrencias AS b WHERE a.datahora=b.datahora AND a.local=b.local AND a.id > b.id;\")\n",
    "cursor.execute(\"SELECT * FROM ocorrencias\")\n",
    "g = cursor.fetchall()\n",
    "con.commit()\n",
    "cursor.close()\n",
    "con.close()"
   ]
  },
  {
   "cell_type": "code",
   "execution_count": null,
   "id": "e7523dbb",
   "metadata": {},
   "outputs": [],
   "source": []
  },
  {
   "cell_type": "code",
   "execution_count": null,
   "id": "76bca805",
   "metadata": {},
   "outputs": [],
   "source": []
  },
  {
   "cell_type": "code",
   "execution_count": null,
   "id": "75780894",
   "metadata": {},
   "outputs": [],
   "source": []
  },
  {
   "cell_type": "code",
   "execution_count": null,
   "id": "698b0d6d",
   "metadata": {},
   "outputs": [],
   "source": []
  },
  {
   "cell_type": "code",
   "execution_count": null,
   "id": "c5b9a406",
   "metadata": {},
   "outputs": [],
   "source": []
  },
  {
   "cell_type": "code",
   "execution_count": null,
   "id": "4cd92cbe",
   "metadata": {},
   "outputs": [],
   "source": []
  }
 ],
 "metadata": {
  "kernelspec": {
   "display_name": "Python 3",
   "language": "python",
   "name": "python3"
  },
  "language_info": {
   "codemirror_mode": {
    "name": "ipython",
    "version": 3
   },
   "file_extension": ".py",
   "mimetype": "text/x-python",
   "name": "python",
   "nbconvert_exporter": "python",
   "pygments_lexer": "ipython3",
   "version": "3.8.8"
  }
 },
 "nbformat": 4,
 "nbformat_minor": 5
}
